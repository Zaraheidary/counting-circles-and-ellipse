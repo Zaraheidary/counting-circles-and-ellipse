{
 "cells": [
  {
   "cell_type": "code",
   "execution_count": 1,
   "metadata": {},
   "outputs": [],
   "source": [
    "import cv2\n",
    "import numpy as np"
   ]
  },
  {
   "cell_type": "code",
   "execution_count": 2,
   "metadata": {},
   "outputs": [],
   "source": [
    "image = cv2.imread(\"blobs.jpg\",0)\n",
    "cv2.imshow('orginalimage',image)\n",
    "cv2.waitKey(0)\n",
    "\n",
    "params = cv2.SimpleBlobDetector_Params()\n",
    "\n",
    "params.filterByArea = True\n",
    "params.minArea = 100\n",
    "\n",
    "params.filterByCircularity = True\n",
    "params.minCircularity = 0.7\n",
    "params.maxCircularity=1\n",
    "\n",
    "params.filterByConvexity=False\n",
    "params.minConvexity=0.2\n",
    "\n",
    "\n",
    "params.filterByInertia = True\n",
    "params.minInertiaRatio = 0.8\n",
    "\n",
    "detector = cv2.SimpleBlobDetector_create(params)\n",
    "\n",
    "keypoints = detector.detect(image)\n",
    "\n",
    "blank = np.zeros((1,1))\n",
    "blobs = cv2.drawKeypoints(image,\n",
    "                          keypoints,\n",
    "                          blank,(255,0,255),\n",
    "                          cv2.DRAW_MATCHES_FLAGS_DRAW_RICH_KEYPOINTS)\n",
    "number_of_blobs = len(keypoints)\n",
    "text = \"number of circle blobs:\"+ str(len(keypoints))\n",
    "\n",
    "cv2.putText(blobs, text, (20,550),\n",
    "            cv2.FONT_HERSHEY_SIMPLEX,\n",
    "            1,(0,100,255),2)\n",
    "\n",
    "cv2.imshow(\"filtering circular blobs only\", blobs)\n",
    "cv2.waitKey(0)\n",
    "cv2.destroyAllWindows()"
   ]
  },
  {
   "cell_type": "code",
   "execution_count": null,
   "metadata": {},
   "outputs": [],
   "source": []
  }
 ],
 "metadata": {
  "kernelspec": {
   "display_name": "Python 3",
   "language": "python",
   "name": "python3"
  },
  "language_info": {
   "codemirror_mode": {
    "name": "ipython",
    "version": 3
   },
   "file_extension": ".py",
   "mimetype": "text/x-python",
   "name": "python",
   "nbconvert_exporter": "python",
   "pygments_lexer": "ipython3",
   "version": "3.11.4"
  }
 },
 "nbformat": 4,
 "nbformat_minor": 2
}
